{
 "cells": [
  {
   "cell_type": "markdown",
   "metadata": {
    "slideshow": {
     "slide_type": "slide"
    }
   },
   "source": [
    "# Object oriented programming\n",
    "\n",
    "“Dynamic programming and structural estimation” mini course\n",
    "\n",
    "Fedor Iskhakov\n"
   ]
  },
  {
   "cell_type": "markdown",
   "metadata": {
    "slideshow": {
     "slide_type": "slide"
    }
   },
   "source": [
    "## Styles of programming languges\n",
    "\n",
    "- **Procedural programming**  \n",
    "  - Series of computational steps to be carried out  \n",
    "  - Routines/functions for modularization of steps  \n",
    "- **Functional programming**  \n",
    "  - programming with expressions or declarations instead of statements  \n",
    "- **Object oriented programming**  \n",
    "  - classes and objects with attributes/properties and methods  \n",
    "\n",
    "\n",
    "Python is a pragmatic mix of styles"
   ]
  },
  {
   "cell_type": "markdown",
   "metadata": {
    "slideshow": {
     "slide_type": "slide"
    }
   },
   "source": [
    "## Object-eriented programming (OOP)\n",
    "\n",
    "- Classes  \n",
    "- Objects  \n",
    "- Attributes/properties  \n",
    "- Methods  "
   ]
  },
  {
   "cell_type": "markdown",
   "metadata": {
    "slideshow": {
     "slide_type": "slide"
    }
   },
   "source": [
    "### OOP principles\n",
    "\n",
    "- **Polymorphism** = same functions/interfaces for different types\n",
    "  $ \\leftrightarrow $ classes have methods with same names  \n",
    "- **Encapsulation** = exposing only needed interface and hiding\n",
    "  internal mechanism for independent refactoring  \n",
    "- **Inheritance** = class hierarchies $ \\leftrightarrow $ inhereted\n",
    "  methods don’t have to be re-implemented, yet can be replaced  "
   ]
  },
  {
   "cell_type": "markdown",
   "metadata": {
    "slideshow": {
     "slide_type": "slide"
    }
   },
   "source": [
    "### Function to explore the class/object structure"
   ]
  },
  {
   "cell_type": "code",
   "execution_count": 5,
   "metadata": {
    "hide-output": false,
    "slideshow": {
     "slide_type": "fragment"
    }
   },
   "outputs": [],
   "source": [
    "def obj_explore(obj,what='all'):\n",
    "    '''Lists attributes and methods of a class, arg=all,public,private,methods,properties'''\n",
    "    import sys # this function will run rarely, so import here\n",
    "    def trstr(s):\n",
    "        if isinstance(s, str):\n",
    "            return s[:30]\n",
    "        else:\n",
    "            return s\n",
    "    def spacer(s):\n",
    "        return \" \"*max(15-len(s),2)\n",
    "    hr='-'*60\n",
    "    print(obj)\n",
    "    print('%s\\nObject report on object = %r' % (hr,obj))\n",
    "    cl=type(obj)\n",
    "    print('Objec class    : %s' % cl)\n",
    "    print('Parent classes : %r' % cl.__bases__)\n",
    "    print('Occupied memory: %d bytes' % sys.getsizeof(obj))\n",
    "    if what in 'all public properties':\n",
    "        print('PUBLIC PROPERTIES')\n",
    "        for name in dir(obj):\n",
    "            attr=getattr(obj,name)\n",
    "            if not callable(attr) and name[0:2]!='__':\n",
    "                print('%s = %r %s' % (name+spacer(name),trstr(attr),type(attr)))\n",
    "    if what in 'all private properties':\n",
    "        print('PRIVATE PROPERTIES')\n",
    "        for name in dir(obj):\n",
    "            attr=getattr(obj,name)\n",
    "            if not callable(attr) and name[0:2]=='__':\n",
    "                print('%s = %r %s' % (name+spacer(name),trstr(attr),type(attr)))\n",
    "    if what in 'all public methods':\n",
    "        print('PUBLIC METHODS')\n",
    "        for name in dir(obj):\n",
    "            attr=getattr(obj,name)\n",
    "            if callable(attr) and name[0:2]!='__':\n",
    "                print('%s %s' % (name+spacer(name),type(attr)))\n",
    "    if what in 'all private methods':\n",
    "        print('PRIVATE METHODS')\n",
    "        for name in dir(obj):\n",
    "            attr=getattr(obj,name)\n",
    "            if callable(attr) and name[0:2]=='__':\n",
    "                print('%s %s' % (name+spacer(name),type(attr)))"
   ]
  },
  {
   "cell_type": "code",
   "execution_count": 6,
   "metadata": {
    "hide-output": false,
    "slideshow": {
     "slide_type": "slide"
    }
   },
   "outputs": [
    {
     "name": "stdout",
     "output_type": "stream",
     "text": [
      "False\n",
      "------------------------------------------------------------\n",
      "Object report on object = False\n",
      "Objec class    : <class 'bool'>\n",
      "Parent classes : <class 'int'>\n",
      "Occupied memory: 24 bytes\n",
      "PUBLIC PROPERTIES\n",
      "denominator     = 1 <class 'int'>\n",
      "imag            = 0 <class 'int'>\n",
      "numerator       = 0 <class 'int'>\n",
      "real            = 0 <class 'int'>\n",
      "PRIVATE PROPERTIES\n",
      "__doc__         = 'bool(x) -> bool\\n\\nReturns True ' <class 'str'>\n",
      "PUBLIC METHODS\n",
      "bit_length      <class 'builtin_function_or_method'>\n",
      "conjugate       <class 'builtin_function_or_method'>\n",
      "from_bytes      <class 'builtin_function_or_method'>\n",
      "to_bytes        <class 'builtin_function_or_method'>\n",
      "PRIVATE METHODS\n",
      "__abs__         <class 'method-wrapper'>\n",
      "__add__         <class 'method-wrapper'>\n",
      "__and__         <class 'method-wrapper'>\n",
      "__bool__        <class 'method-wrapper'>\n",
      "__ceil__        <class 'builtin_function_or_method'>\n",
      "__class__       <class 'type'>\n",
      "__delattr__     <class 'method-wrapper'>\n",
      "__dir__         <class 'builtin_function_or_method'>\n",
      "__divmod__      <class 'method-wrapper'>\n",
      "__eq__          <class 'method-wrapper'>\n",
      "__float__       <class 'method-wrapper'>\n",
      "__floor__       <class 'builtin_function_or_method'>\n",
      "__floordiv__    <class 'method-wrapper'>\n",
      "__format__      <class 'builtin_function_or_method'>\n",
      "__ge__          <class 'method-wrapper'>\n",
      "__getattribute__   <class 'method-wrapper'>\n",
      "__getnewargs__   <class 'builtin_function_or_method'>\n",
      "__gt__          <class 'method-wrapper'>\n",
      "__hash__        <class 'method-wrapper'>\n",
      "__index__       <class 'method-wrapper'>\n",
      "__init__        <class 'method-wrapper'>\n",
      "__init_subclass__   <class 'builtin_function_or_method'>\n",
      "__int__         <class 'method-wrapper'>\n",
      "__invert__      <class 'method-wrapper'>\n",
      "__le__          <class 'method-wrapper'>\n",
      "__lshift__      <class 'method-wrapper'>\n",
      "__lt__          <class 'method-wrapper'>\n",
      "__mod__         <class 'method-wrapper'>\n",
      "__mul__         <class 'method-wrapper'>\n",
      "__ne__          <class 'method-wrapper'>\n",
      "__neg__         <class 'method-wrapper'>\n",
      "__new__         <class 'builtin_function_or_method'>\n",
      "__or__          <class 'method-wrapper'>\n",
      "__pos__         <class 'method-wrapper'>\n",
      "__pow__         <class 'method-wrapper'>\n",
      "__radd__        <class 'method-wrapper'>\n",
      "__rand__        <class 'method-wrapper'>\n",
      "__rdivmod__     <class 'method-wrapper'>\n",
      "__reduce__      <class 'builtin_function_or_method'>\n",
      "__reduce_ex__   <class 'builtin_function_or_method'>\n",
      "__repr__        <class 'method-wrapper'>\n",
      "__rfloordiv__   <class 'method-wrapper'>\n",
      "__rlshift__     <class 'method-wrapper'>\n",
      "__rmod__        <class 'method-wrapper'>\n",
      "__rmul__        <class 'method-wrapper'>\n",
      "__ror__         <class 'method-wrapper'>\n",
      "__round__       <class 'builtin_function_or_method'>\n",
      "__rpow__        <class 'method-wrapper'>\n",
      "__rrshift__     <class 'method-wrapper'>\n",
      "__rshift__      <class 'method-wrapper'>\n",
      "__rsub__        <class 'method-wrapper'>\n",
      "__rtruediv__    <class 'method-wrapper'>\n",
      "__rxor__        <class 'method-wrapper'>\n",
      "__setattr__     <class 'method-wrapper'>\n",
      "__sizeof__      <class 'builtin_function_or_method'>\n",
      "__str__         <class 'method-wrapper'>\n",
      "__sub__         <class 'method-wrapper'>\n",
      "__subclasshook__   <class 'builtin_function_or_method'>\n",
      "__truediv__     <class 'method-wrapper'>\n",
      "__trunc__       <class 'builtin_function_or_method'>\n",
      "__xor__         <class 'method-wrapper'>\n"
     ]
    }
   ],
   "source": [
    "x=False # Boolean\n",
    "obj_explore(x)"
   ]
  },
  {
   "cell_type": "code",
   "execution_count": 7,
   "metadata": {
    "hide-output": false,
    "slideshow": {
     "slide_type": "slide"
    }
   },
   "outputs": [
    {
     "name": "stdout",
     "output_type": "stream",
     "text": [
      "10\n",
      "------------------------------------------------------------\n",
      "Object report on object = 10\n",
      "Objec class    : <class 'int'>\n",
      "Parent classes : <class 'object'>\n",
      "Occupied memory: 28 bytes\n",
      "PUBLIC PROPERTIES\n",
      "denominator     = 1 <class 'int'>\n",
      "imag            = 0 <class 'int'>\n",
      "numerator       = 10 <class 'int'>\n",
      "real            = 10 <class 'int'>\n",
      "PRIVATE PROPERTIES\n",
      "__doc__         = 'int([x]) -> integer\\nint(x, bas' <class 'str'>\n",
      "PUBLIC METHODS\n",
      "bit_length      <class 'builtin_function_or_method'>\n",
      "conjugate       <class 'builtin_function_or_method'>\n",
      "from_bytes      <class 'builtin_function_or_method'>\n",
      "to_bytes        <class 'builtin_function_or_method'>\n",
      "PRIVATE METHODS\n",
      "__abs__         <class 'method-wrapper'>\n",
      "__add__         <class 'method-wrapper'>\n",
      "__and__         <class 'method-wrapper'>\n",
      "__bool__        <class 'method-wrapper'>\n",
      "__ceil__        <class 'builtin_function_or_method'>\n",
      "__class__       <class 'type'>\n",
      "__delattr__     <class 'method-wrapper'>\n",
      "__dir__         <class 'builtin_function_or_method'>\n",
      "__divmod__      <class 'method-wrapper'>\n",
      "__eq__          <class 'method-wrapper'>\n",
      "__float__       <class 'method-wrapper'>\n",
      "__floor__       <class 'builtin_function_or_method'>\n",
      "__floordiv__    <class 'method-wrapper'>\n",
      "__format__      <class 'builtin_function_or_method'>\n",
      "__ge__          <class 'method-wrapper'>\n",
      "__getattribute__   <class 'method-wrapper'>\n",
      "__getnewargs__   <class 'builtin_function_or_method'>\n",
      "__gt__          <class 'method-wrapper'>\n",
      "__hash__        <class 'method-wrapper'>\n",
      "__index__       <class 'method-wrapper'>\n",
      "__init__        <class 'method-wrapper'>\n",
      "__init_subclass__   <class 'builtin_function_or_method'>\n",
      "__int__         <class 'method-wrapper'>\n",
      "__invert__      <class 'method-wrapper'>\n",
      "__le__          <class 'method-wrapper'>\n",
      "__lshift__      <class 'method-wrapper'>\n",
      "__lt__          <class 'method-wrapper'>\n",
      "__mod__         <class 'method-wrapper'>\n",
      "__mul__         <class 'method-wrapper'>\n",
      "__ne__          <class 'method-wrapper'>\n",
      "__neg__         <class 'method-wrapper'>\n",
      "__new__         <class 'builtin_function_or_method'>\n",
      "__or__          <class 'method-wrapper'>\n",
      "__pos__         <class 'method-wrapper'>\n",
      "__pow__         <class 'method-wrapper'>\n",
      "__radd__        <class 'method-wrapper'>\n",
      "__rand__        <class 'method-wrapper'>\n",
      "__rdivmod__     <class 'method-wrapper'>\n",
      "__reduce__      <class 'builtin_function_or_method'>\n",
      "__reduce_ex__   <class 'builtin_function_or_method'>\n",
      "__repr__        <class 'method-wrapper'>\n",
      "__rfloordiv__   <class 'method-wrapper'>\n",
      "__rlshift__     <class 'method-wrapper'>\n",
      "__rmod__        <class 'method-wrapper'>\n",
      "__rmul__        <class 'method-wrapper'>\n",
      "__ror__         <class 'method-wrapper'>\n",
      "__round__       <class 'builtin_function_or_method'>\n",
      "__rpow__        <class 'method-wrapper'>\n",
      "__rrshift__     <class 'method-wrapper'>\n",
      "__rshift__      <class 'method-wrapper'>\n",
      "__rsub__        <class 'method-wrapper'>\n",
      "__rtruediv__    <class 'method-wrapper'>\n",
      "__rxor__        <class 'method-wrapper'>\n",
      "__setattr__     <class 'method-wrapper'>\n",
      "__sizeof__      <class 'builtin_function_or_method'>\n",
      "__str__         <class 'method-wrapper'>\n",
      "__sub__         <class 'method-wrapper'>\n",
      "__subclasshook__   <class 'builtin_function_or_method'>\n",
      "__truediv__     <class 'method-wrapper'>\n",
      "__trunc__       <class 'builtin_function_or_method'>\n",
      "__xor__         <class 'method-wrapper'>\n"
     ]
    }
   ],
   "source": [
    "x=0b1010 # Integer\n",
    "obj_explore(x)"
   ]
  },
  {
   "cell_type": "code",
   "execution_count": null,
   "metadata": {
    "hide-output": false,
    "slideshow": {
     "slide_type": "slide"
    }
   },
   "outputs": [],
   "source": [
    "x=4.32913 # Float\n",
    "obj_explore(x)"
   ]
  },
  {
   "cell_type": "code",
   "execution_count": null,
   "metadata": {
    "hide-output": false,
    "slideshow": {
     "slide_type": "slide"
    }
   },
   "outputs": [],
   "source": [
    "x=\"Australian National University\" # String\n",
    "obj_explore(x,'public methods')"
   ]
  },
  {
   "cell_type": "markdown",
   "metadata": {
    "slideshow": {
     "slide_type": "slide"
    }
   },
   "source": [
    "### Polymorphism for strings\n",
    "\n",
    "- $ == $ (quality) $ \\rightarrow $ True/False  \n",
    "- $ + $ (addition) $ \\rightarrow $ concatenation  \n",
    "- $ - $ (subtraction) undefined  \n",
    "- $ * $ (multiplication) $ \\rightarrow $ repetition (int)  \n",
    "- $ / $ (devision) undefined  \n",
    "- $ < > \\le \\ge $ (comparison ) $ \\rightarrow $ lexicographical\n",
    "  comparison based on ASCII codes  "
   ]
  },
  {
   "cell_type": "code",
   "execution_count": null,
   "metadata": {
    "hide-output": false,
    "slideshow": {
     "slide_type": "slide"
    }
   },
   "outputs": [],
   "source": [
    "s1=\"Economics \"\n",
    "s2=\"Econometrics \"\n",
    "obj_explore(s1,'private methods')\n",
    "\n",
    "s1 + s2\n",
    "# s1+2\n",
    "# s1+str(2)\n",
    "# (s1+s2)*2\n",
    "# (s1+s2)*2 == s1*2 + s2*2"
   ]
  },
  {
   "cell_type": "code",
   "execution_count": null,
   "metadata": {
    "hide-output": false,
    "slideshow": {
     "slide_type": "slide"
    }
   },
   "outputs": [],
   "source": [
    "x=[4,5,'hello'] # List\n",
    "obj_explore(x,'public')"
   ]
  },
  {
   "cell_type": "code",
   "execution_count": null,
   "metadata": {
    "hide-output": false,
    "slideshow": {
     "slide_type": "slide"
    }
   },
   "outputs": [],
   "source": [
    "x=(4,5,'hello') # Tuple => immutable\n",
    "obj_explore(x,'public')"
   ]
  },
  {
   "cell_type": "code",
   "execution_count": null,
   "metadata": {
    "hide-output": false,
    "slideshow": {
     "slide_type": "slide"
    }
   },
   "outputs": [],
   "source": [
    "x={\"key\": \"value\",\"another_key\": 574} # Dictionary\n",
    "obj_explore(x)"
   ]
  },
  {
   "cell_type": "markdown",
   "metadata": {
    "slideshow": {
     "slide_type": "slide"
    }
   },
   "source": [
    "### Inheritance for booleans\n",
    "\n",
    "By-default copy of all methods and properties"
   ]
  },
  {
   "cell_type": "code",
   "execution_count": null,
   "metadata": {
    "hide-output": false,
    "slideshow": {
     "slide_type": "slide"
    }
   },
   "outputs": [],
   "source": [
    "x=True\n",
    "cl=type(x)\n",
    "print(\"Own class   : %s\" % cl) # list of parent classes\n",
    "\n",
    "print(\"Parent class: %s\" % cl.__bases__) # list of parent classes"
   ]
  },
  {
   "cell_type": "markdown",
   "metadata": {
    "slideshow": {
     "slide_type": "slide"
    }
   },
   "source": [
    "### Everything in Python is an object!\n",
    "\n",
    "- Variables of all types  \n",
    "- Functions, both custom and inbuilt  \n",
    "- Imported modules  \n",
    "- Input and output (files)  \n",
    "- etc.  "
   ]
  },
  {
   "cell_type": "markdown",
   "metadata": {
    "slideshow": {
     "slide_type": "slide"
    }
   },
   "source": [
    "## How to write classes\n",
    "\n",
    "1. When do I need a class/object?  \n",
    "  - collection of model parameters  \n",
    "  - repeatedly used complex *things*  \n",
    "  - note: collection of functions is **module** = .py file with defs  \n",
    "1. Syntax  \n",
    "\n",
    "\n",
    "List of standard methods:\n",
    "[https://docs.python.org/3/reference/datamodel.html#special-method-names](https://docs.python.org/3/reference/datamodel.html#special-method-names)"
   ]
  },
  {
   "cell_type": "code",
   "execution_count": 8,
   "metadata": {
    "hide-output": false,
    "slideshow": {
     "slide_type": "slide"
    }
   },
   "outputs": [],
   "source": [
    "class Firm:\n",
    "    \"\"\"\n",
    "    Stores the parameters of the production function f(k) = Ak^α,\n",
    "    implements the function.\n",
    "    \"\"\"\n",
    "\n",
    "    def __init__(self, α=0.5, A=2.0):\n",
    "        # Public properties\n",
    "        self.α = α\n",
    "        self.A = A\n",
    "\n",
    "    def __call__(self, val):\n",
    "        return self.A * val**self.α"
   ]
  },
  {
   "cell_type": "code",
   "execution_count": 10,
   "metadata": {
    "hide-output": false,
    "slideshow": {
     "slide_type": "slide"
    }
   },
   "outputs": [
    {
     "name": "stdout",
     "output_type": "stream",
     "text": [
      "6.324555320336759\n",
      "9.486832980505138\n",
      "12.649110640673518\n"
     ]
    }
   ],
   "source": [
    "firm1 = Firm()\n",
    "# obj_explore(firm1)\n",
    "firm2 = Firm(A=3.0)\n",
    "firm3 = Firm(A=4.0)\n",
    "\n",
    "# firm1.α\n",
    "k = 10.0\n",
    "print(firm1(k))\n",
    "print(firm2(k))\n",
    "print(firm3(k))"
   ]
  },
  {
   "cell_type": "code",
   "execution_count": null,
   "metadata": {
    "hide-output": false,
    "slideshow": {
     "slide_type": "slide"
    }
   },
   "outputs": [],
   "source": [
    "class Polynomial():\n",
    "    \"\"\" Class to implement polynomial objects and binary operations on polynomialss\n",
    "    \"\"\"\n",
    "\n",
    "    def __init__(self, coeffs=[0,]):  # Initialization\n",
    "        # Public properties\n",
    "        self.degree = len(coeffs) - 1\n",
    "        self.rep = self.str(coeffs)\n",
    "        self.coefficients = coeffs\n",
    "\n",
    "    def __repr__(self):\n",
    "        # Screen reprentation\n",
    "        return self.rep\n",
    "\n",
    "    def str(self, coeffs):\n",
    "        #Create list of nonzero terms\n",
    "        terms = [str(coeffs[k]) + 'x^' + str(k) \\\n",
    "                for k in range(0, self.degree + 1) \\\n",
    "                if coeffs[k] != 0]\n",
    "\n",
    "        #If zero polynomial, return 0\n",
    "        if len(terms) == 0:\n",
    "            return str(0)\n",
    "\n",
    "        #Replace 0 and 1 powers\n",
    "        if coeffs[0] != 0:\n",
    "            terms[0] = str(coeffs[0])\n",
    "        if len(coeffs)>1 and coeffs[1] != 0:\n",
    "            terms[1] = str(coeffs[1]) + 'x'\n",
    "\n",
    "        #Otherwise concatenate terms\n",
    "        st=''\n",
    "        for t in terms:\n",
    "            st = st + ' + ' + t\n",
    "        #Strip out leading +\n",
    "        return st.lstrip(' + ')\n",
    "\n",
    "    def __add__(self, other):\n",
    "        \"\"\"Overloads the + operator.\"\"\"\n",
    "\n",
    "        #Max length of polynomials' coeff lists\n",
    "        d = max(self.degree, other.degree) + 1\n",
    "        #Pad coeffs lists with 0s until equal length\n",
    "        self_temp = self.coefficients + [0]*(d-self.degree-1)\n",
    "        other_temp = other.coefficients + [0]*(d-other.degree-1)\n",
    "        #Sum coeffs lists elementwise\n",
    "        new_temp = [0]*d\n",
    "        for i in range(d):\n",
    "            new_temp[i] = self_temp[i] + other_temp[i]\n",
    "        return Polynomial(new_temp)\n",
    "\n",
    "    def __mul__(self, other):\n",
    "        \"\"\"Overloads the * operator.\"\"\"\n",
    "\n",
    "        n = self.degree + other.degree     #Degree of product\n",
    "        prod_coeffs = [0]*(n+1) #Initalize coefficient list of product\n",
    "        #Compute product\n",
    "        for i in range(0, self.degree + 1):\n",
    "            for j in range(0, other.degree + 1):\n",
    "                prod_coeffs[i+j] += self.coefficients[i] * other.coefficients[j]\n",
    "        return Polynomial(prod_coeffs)\n",
    "\n",
    "    def __call__(self, val):\n",
    "        \"\"\"Evaluates the polynomial at x = val.\"\"\"\n",
    "        res=self.coefficients[0]\n",
    "        x=val\n",
    "        for i in range(self.degree):\n",
    "            res += x*self.coefficients[i+1]\n",
    "            x*=val\n",
    "        return res"
   ]
  },
  {
   "cell_type": "code",
   "execution_count": null,
   "metadata": {
    "hide-output": false,
    "slideshow": {
     "slide_type": "slide"
    }
   },
   "outputs": [],
   "source": [
    "p=Polynomial([1,2,3])\n",
    "obj_explore(p,'public')"
   ]
  },
  {
   "cell_type": "code",
   "execution_count": null,
   "metadata": {
    "hide-output": false,
    "slideshow": {
     "slide_type": "slide"
    }
   },
   "outputs": [],
   "source": [
    "p1=Polynomial([1,2,5,0,0,4])\n",
    "print('p1(x) = %r' % p1)\n",
    "print('p1(5) = %r' % p1(5))\n",
    "p2=Polynomial([10,0,3,7])\n",
    "print('p2 = %r' % p2)\n",
    "print('p2(2) = %r' % p2(2))\n",
    "\n",
    "p3=p1+p2\n",
    "print('Sum     %r' % p3)\n",
    "p3=p1*p2\n",
    "print('Product %r' % p3)"
   ]
  },
  {
   "cell_type": "markdown",
   "metadata": {
    "slideshow": {
     "slide_type": "slide"
    }
   },
   "source": [
    "### How would you improve the polynomial class?\n",
    "- overload other operations?\n",
    "- additional functionality?"
   ]
  }
 ],
 "metadata": {
  "celltoolbar": "Slideshow",
  "filename": "lecture2part2.rst",
  "kernelspec": {
   "display_name": "Python 3",
   "language": "python",
   "name": "python3"
  },
  "language_info": {
   "codemirror_mode": {
    "name": "ipython",
    "version": 3
   },
   "file_extension": ".py",
   "mimetype": "text/x-python",
   "name": "python",
   "nbconvert_exporter": "python",
   "pygments_lexer": "ipython3",
   "version": "3.7.6"
  },
  "title": "Object oriented programming"
 },
 "nbformat": 4,
 "nbformat_minor": 2
}
